{
 "cells": [
  {
   "cell_type": "code",
   "execution_count": 1,
   "id": "01a156d8-a7c2-4616-90f8-ca647f10f1cf",
   "metadata": {},
   "outputs": [
    {
     "name": "stdout",
     "output_type": "stream",
     "text": [
      "  Customer  Candies (#)  Mangoes (Kg)  Milk Packets (#)  Payment (Rs)  \\\n",
      "0      C_1           20             6                 2           386   \n",
      "1      C_2           16             3                 6           289   \n",
      "2      C_3           27             6                 2           393   \n",
      "3      C_4           19             1                 2           110   \n",
      "4      C_5           24             4                 2           280   \n",
      "5      C_6           22             1                 5           167   \n",
      "6      C_7           15             4                 2           271   \n",
      "7      C_8           18             4                 2           274   \n",
      "8      C_9           21             1                 4           148   \n",
      "9     C_10           16             2                 4           198   \n",
      "\n",
      "   Unnamed: 5  Unnamed: 6  Unnamed: 7  Unnamed: 8  Unnamed: 9  ...  \\\n",
      "0         NaN         NaN         NaN         NaN         NaN  ...   \n",
      "1         NaN         NaN         NaN         NaN         NaN  ...   \n",
      "2         NaN         NaN         NaN         NaN         NaN  ...   \n",
      "3         NaN         NaN         NaN         NaN         NaN  ...   \n",
      "4         NaN         NaN         NaN         NaN         NaN  ...   \n",
      "5         NaN         NaN         NaN         NaN         NaN  ...   \n",
      "6         NaN         NaN         NaN         NaN         NaN  ...   \n",
      "7         NaN         NaN         NaN         NaN         NaN  ...   \n",
      "8         NaN         NaN         NaN         NaN         NaN  ...   \n",
      "9         NaN         NaN         NaN         NaN         NaN  ...   \n",
      "\n",
      "   Unnamed: 12  Unnamed: 13  Unnamed: 14  Unnamed: 15  Unnamed: 16  \\\n",
      "0          NaN          NaN          NaN          NaN          NaN   \n",
      "1          NaN          NaN          NaN          NaN          NaN   \n",
      "2          NaN          NaN          NaN          NaN          NaN   \n",
      "3          NaN          NaN          NaN          NaN          NaN   \n",
      "4          NaN          NaN          NaN          NaN          NaN   \n",
      "5          NaN          NaN          NaN          NaN          NaN   \n",
      "6          NaN          NaN          NaN          NaN          NaN   \n",
      "7          NaN          NaN          NaN          NaN          NaN   \n",
      "8          NaN          NaN          NaN          NaN          NaN   \n",
      "9          NaN          NaN          NaN          NaN          NaN   \n",
      "\n",
      "   Unnamed: 17  Unnamed: 18  Candy  Mango  Milk  \n",
      "0          NaN          NaN    1.0   55.0  18.0  \n",
      "1          NaN          NaN    NaN    NaN   NaN  \n",
      "2          NaN          NaN    NaN    NaN   NaN  \n",
      "3          NaN          NaN    NaN    NaN   NaN  \n",
      "4          NaN          NaN    NaN    NaN   NaN  \n",
      "5          NaN          NaN    NaN    NaN   NaN  \n",
      "6          NaN          NaN    NaN    NaN   NaN  \n",
      "7          NaN          NaN    NaN    NaN   NaN  \n",
      "8          NaN          NaN    NaN    NaN   NaN  \n",
      "9          NaN          NaN    NaN    NaN   NaN  \n",
      "\n",
      "[10 rows x 22 columns]\n"
     ]
    }
   ],
   "source": [
    "import pandas as pd \n",
    "df = pd.read_csv('Lab Session Data(Purchase data).csv')\n",
    "print(df)"
   ]
  },
  {
   "cell_type": "code",
   "execution_count": null,
   "id": "bba74e40-9c39-4107-bdd4-ef68a3d896db",
   "metadata": {},
   "outputs": [],
   "source": []
  }
 ],
 "metadata": {
  "kernelspec": {
   "display_name": "Python 3 (ipykernel)",
   "language": "python",
   "name": "python3"
  },
  "language_info": {
   "codemirror_mode": {
    "name": "ipython",
    "version": 3
   },
   "file_extension": ".py",
   "mimetype": "text/x-python",
   "name": "python",
   "nbconvert_exporter": "python",
   "pygments_lexer": "ipython3",
   "version": "3.12.4"
  }
 },
 "nbformat": 4,
 "nbformat_minor": 5
}
