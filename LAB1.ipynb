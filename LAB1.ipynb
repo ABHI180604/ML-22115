{
 "cells": [
  {
   "cell_type": "code",
   "execution_count": 1,
   "id": "b77324e9-bb2e-4c6c-ba68-ce2a96ed58fd",
   "metadata": {},
   "outputs": [
    {
     "name": "stdout",
     "output_type": "stream",
     "text": [
      "number of pairs which sum up to 10 are: 2\n"
     ]
    }
   ],
   "source": [
    "def pairs(lists):\n",
    "    count=0\n",
    "    for i in range(len(lists)):\n",
    "        for j in range(i+1,len(lists)):\n",
    "            if lists[i]+lists[j]==10:\n",
    "                count+=1\n",
    "    return count\n",
    "def main():\n",
    "    list = [2,7,4,1,3,6]\n",
    "    counts= pairs(list);\n",
    "    print('number of pairs which sum up to 10 are:',counts)\n",
    "\n",
    "if __name__==\"__main__\":\n",
    "    main()\n"
   ]
  },
  {
   "cell_type": "code",
   "execution_count": 2,
   "id": "cedaacf7-cd9c-4093-bc06-5de12622d393",
   "metadata": {},
   "outputs": [
    {
     "name": "stdout",
     "output_type": "stream",
     "text": [
      "8\n"
     ]
    }
   ],
   "source": [
    "def difference(lists):\n",
    "     maxnum= max(lists)\n",
    "     minnum= min(lists)\n",
    "     diff = maxnum-minnum\n",
    "     return diff\n",
    "def length(lists):\n",
    "     return len(lists)>2\n",
    "def main():\n",
    "     list=[5,3,8,1,0,4]\n",
    "     diff=0\n",
    "\n",
    "     if length(list):\n",
    "          diff=difference(list)\n",
    "          print(diff)\n",
    "     else:\n",
    "          print(\"The number of elements in the list is less than 3 numbers, hence we cannot calculate the range\")\n",
    "if __name__==\"__main__\":\n",
    "         main()\n"
   ]
  },
  {
   "cell_type": "code",
   "execution_count": 3,
   "id": "0dae5f5a-114f-478e-b8a5-cdfd5767623e",
   "metadata": {},
   "outputs": [
    {
     "name": "stdout",
     "output_type": "stream",
     "text": [
      "Matrix raised to the power 2:\n",
      "7 10\n",
      "15 22\n"
     ]
    }
   ],
   "source": [
    "def square_matrix(matrix):\n",
    " \n",
    "       for row in matrix:\n",
    "        if len(row) != len(matrix):\n",
    "            return False\n",
    "       return True\n",
    "\n",
    "def multiply_matrices(matrix1, matrix2):\n",
    "\n",
    "    size = len(matrix1)\n",
    "    result = [[0 for _ in range(size)] for _ in range(size)]\n",
    "\n",
    "    for i in range(size):\n",
    "        for j in range(size):\n",
    "            for k in range(size):\n",
    "                result[i][j] += matrix1[i][k] * matrix2[k][j]\n",
    "    \n",
    "    return result\n",
    "\n",
    "def matrix_power(matrix, m):\n",
    "\n",
    "    if not square_matrix(matrix):\n",
    "        print(\"The matrix must be square.\")\n",
    "        return None\n",
    "\n",
    "    if m <= 0:\n",
    "        print(\"The power must be a positive integer.\")\n",
    "        return None\n",
    "\n",
    "    size = len(matrix)\n",
    "    result = [[1 if i == j else 0 for j in range(size)] for i in range(size)]\n",
    "\n",
    "    for _ in range(m):\n",
    "        result = multiply_matrices(result, matrix)\n",
    "\n",
    "    return result\n",
    "\n",
    "def print_matrix(matrix):\n",
    "\n",
    "    for row in matrix:\n",
    "        print(\" \".join(map(str, row)))\n",
    "\n",
    "def main():\n",
    "\n",
    "    matrix = [\n",
    "        [1, 2],\n",
    "        [3, 4]\n",
    "    ]\n",
    "    power = 2\n",
    "    powered_matrix = matrix_power(matrix, power)\n",
    "\n",
    "    if powered_matrix:\n",
    "        print(f\"Matrix raised to the power {power}:\")\n",
    "        print_matrix(powered_matrix)\n",
    "\n",
    "if __name__ == \"__main__\":\n",
    "    main()"
   ]
  },
  {
   "cell_type": "code",
   "execution_count": 4,
   "id": "e3ae51e1-076f-4531-8be8-6a225fc5d3d0",
   "metadata": {},
   "outputs": [
    {
     "name": "stdin",
     "output_type": "stream",
     "text": [
      "Enter a string:  aaabcd\n"
     ]
    },
    {
     "name": "stdout",
     "output_type": "stream",
     "text": [
      "The highest occurring character is 'a' with a count of 3.\n"
     ]
    }
   ],
   "source": [
    "def count_highest_occurrence(input_string):\n",
    "    \n",
    "    char_count = {}\n",
    "\n",
    "    for char in input_string:\n",
    "     \n",
    "        if char in char_count:\n",
    "            char_count[char] += 1\n",
    "        else:\n",
    "            char_count[char] = 1\n",
    "\n",
    "    max_char = None\n",
    "    max_count = 0\n",
    "\n",
    "    for char, count in char_count.items():\n",
    "        if count > max_count:\n",
    "            max_count = count\n",
    "            max_char = char\n",
    "\n",
    "    return max_char, max_count\n",
    "\n",
    "def main():\n",
    "    input_string = input(\"Enter a string: \")\n",
    "\n",
    "    max_char, max_count = count_highest_occurrence(input_string)\n",
    "\n",
    "    if max_char:\n",
    "        print(f\"The highest occurring character is '{max_char}' with a count of {max_count}.\")\n",
    "    else:\n",
    "        print(\"The string is empty.\")\n",
    "\n",
    "if __name__ == \"__main__\":\n",
    "    main()\n"
   ]
  },
  {
   "cell_type": "code",
   "execution_count": null,
   "id": "417b74ca-3331-4249-8b1f-2d95ba630a8c",
   "metadata": {},
   "outputs": [],
   "source": []
  }
 ],
 "metadata": {
  "kernelspec": {
   "display_name": "Python 3 (ipykernel)",
   "language": "python",
   "name": "python3"
  },
  "language_info": {
   "codemirror_mode": {
    "name": "ipython",
    "version": 3
   },
   "file_extension": ".py",
   "mimetype": "text/x-python",
   "name": "python",
   "nbconvert_exporter": "python",
   "pygments_lexer": "ipython3",
   "version": "3.12.4"
  }
 },
 "nbformat": 4,
 "nbformat_minor": 5
}
