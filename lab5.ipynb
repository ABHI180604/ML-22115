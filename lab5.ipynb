{
  "nbformat": 4,
  "nbformat_minor": 0,
  "metadata": {
    "colab": {
      "provenance": [],
      "authorship_tag": "ABX9TyM34ypwpr7npGpA/1VvIwYd",
      "include_colab_link": true
    },
    "kernelspec": {
      "name": "python3",
      "display_name": "Python 3"
    },
    "language_info": {
      "name": "python"
    }
  },
  "cells": [
    {
      "cell_type": "markdown",
      "metadata": {
        "id": "view-in-github",
        "colab_type": "text"
      },
      "source": [
        "<a href=\"https://colab.research.google.com/github/ABHI180604/ML-22115/blob/main/lab5.ipynb\" target=\"_parent\"><img src=\"https://colab.research.google.com/assets/colab-badge.svg\" alt=\"Open In Colab\"/></a>"
      ]
    },
    {
      "cell_type": "code",
      "source": [
        "#A1\n",
        "from sklearn.model_selection import train_test_split\n",
        "from sklearn.linear_model import LinearRegression\n",
        "\n",
        "\n",
        "X = df[['0']]\n",
        "y = df['LABEL']\n",
        "\n",
        "# Splitting the dataset into training and testing sets\n",
        "X_train, X_test, y_train, y_test = train_test_split(X, y, test_size=0.2, random_state=42)\n",
        "\n",
        "# Training the linear regression model\n",
        "reg = LinearRegression().fit(X_train, y_train)\n",
        "\n",
        "# Making predictions\n",
        "y_train_pred = reg.predict(X_train)\n",
        "y_test_pred = reg.predict(X_test)"
      ],
      "metadata": {
        "id": "-rk7hGohUviS"
      },
      "execution_count": null,
      "outputs": []
    },
    {
      "cell_type": "code",
      "source": [
        "#A2\n",
        "from sklearn.metrics import mean_squared_error, r2_score, mean_absolute_percentage_error\n",
        "import numpy as np\n",
        "\n",
        "\n",
        "mse_train = mean_squared_error(y_train, y_train_pred)\n",
        "mse_test = mean_squared_error(y_test, y_test_pred)\n",
        "\n",
        "\n",
        "rmse_train = np.sqrt(mse_train)\n",
        "rmse_test = np.sqrt(mse_test)\n",
        "\n",
        "\n",
        "mape_train = mean_absolute_percentage_error(y_train, y_train_pred)\n",
        "mape_test = mean_absolute_percentage_error(y_test, y_test_pred)\n",
        "\n",
        "r2_train = r2_score(y_train, y_train_pred)\n",
        "r2_test = r2_score(y_test, y_test_pred)\n",
        "\n",
        "print(f\"Train MSE: {mse_train}, Test MSE: {mse_test}\")\n",
        "print(f\"Train RMSE: {rmse_train}, Test RMSE: {rmse_test}\")\n",
        "print(f\"Train MAPE: {mape_train}, Test MAPE: {mape_test}\")\n",
        "print(f\"Train R²: {r2_train}, Test R²: {r2_test}\")"
      ],
      "metadata": {
        "id": "2gF2S-XlMmfZ"
      },
      "execution_count": null,
      "outputs": []
    },
    {
      "cell_type": "code",
      "source": [
        "#A3\n",
        "import pandas as pd\n",
        "from sklearn.model_selection import train_test_split\n",
        "from sklearn.linear_model import LinearRegression\n",
        "from sklearn.metrics import mean_squared_error, r2_score, mean_absolute_percentage_error\n",
        "import numpy as np\n",
        "\n",
        "\n",
        "\n",
        "\n",
        "target_column = 'LABEL'\n",
        "\n",
        "features = ['0', '1', '2']\n",
        "\n",
        "\n",
        "X = df[features]\n",
        "y = df[target_column]\n",
        "\n",
        "\n",
        "X_train, X_test, y_train, y_test = train_test_split(X, y, test_size=0.2, random_state=42)\n",
        "\n",
        "\n",
        "reg = LinearRegression().fit(X_train, y_train)\n",
        "\n",
        "\n",
        "y_train_pred = reg.predict(X_train)\n",
        "y_test_pred = reg.predict(X_test)\n",
        "\n",
        "\n",
        "mse_train = mean_squared_error(y_train, y_train_pred)\n",
        "rmse_train = np.sqrt(mse_train)\n",
        "mape_train = mean_absolute_percentage_error(y_train, y_train_pred)\n",
        "r2_train = r2_score(y_train, y_train_pred)\n",
        "\n",
        "# Calculate Metrics for Test Set\n",
        "mse_test = mean_squared_error(y_test, y_test_pred)\n",
        "rmse_test = np.sqrt(mse_test)\n",
        "mape_test = mean_absolute_percentage_error(y_test, y_test_pred)\n",
        "r2_test = r2_score(y_test, y_test_pred)\n",
        "\n",
        "# Print the metrics\n",
        "print(f\"Train MSE: {mse_train}, Test MSE: {mse_test}\")\n",
        "print(f\"Train RMSE: {rmse_train}, Test RMSE: {rmse_test}\")\n",
        "print(f\"Train MAPE: {mape_train}, Test MAPE: {mape_test}\")\n",
        "print(f\"Train R²: {r2_train}, Test R²: {r2_test}\")"
      ],
      "metadata": {
        "id": "FVCFkudCMrlN"
      },
      "execution_count": null,
      "outputs": []
    },
    {
      "cell_type": "code",
      "source": [
        "#A4\n",
        "from sklearn.cluster import KMeans\n",
        "\n",
        "X = df.drop(columns=['LABEL'])\n",
        "\n",
        "\n",
        "kmeans = KMeans(n_clusters=2, random_state=0, n_init=\"auto\").fit(X)\n",
        "\n",
        "\n",
        "labels = kmeans.labels_\n",
        "centers = kmeans.cluster_centers_\n",
        "\n",
        "print(\"Cluster Centers:\\n\", centers)"
      ],
      "metadata": {
        "id": "rtIAul7eMwaN"
      },
      "execution_count": null,
      "outputs": []
    },
    {
      "cell_type": "code",
      "source": [
        "#A5\n",
        "from sklearn.metrics import silhouette_score, calinski_harabasz_score, davies_bouldin_score\n",
        "\n",
        "\n",
        "silhouette = silhouette_score(X, labels)\n",
        "ch_score = calinski_harabasz_score(X, labels)\n",
        "db_score = davies_bouldin_score(X, labels)\n",
        "\n",
        "print(f\"Silhouette Score: {silhouette}\")\n",
        "print(f\"Calinski-Harabasz Score: {ch_score}\")\n",
        "print(f\"Davies-Bouldin Score: {db_score}\")"
      ],
      "metadata": {
        "id": "brEhYzbNMyo0"
      },
      "execution_count": null,
      "outputs": []
    },
    {
      "cell_type": "code",
      "source": [
        "# A6\n",
        "\n",
        "silhouette_scores = []\n",
        "ch_scores = []\n",
        "db_scores = []\n",
        "k_values = range(2, 11)\n",
        "\n",
        "for k in k_values:\n",
        "    kmeans = KMeans(n_clusters=k, random_state=0, n_init=\"auto\").fit(X)\n",
        "    labels = kmeans.labels_\n",
        "\n",
        "    silhouette_scores.append(silhouette_score(X, labels))\n",
        "    ch_scores.append(calinski_harabasz_score(X, labels))\n",
        "    db_scores.append(davies_bouldin_score(X, labels))\n",
        "\n",
        "# Plotting the scores against k values\n",
        "import matplotlib.pyplot as plt\n",
        "\n",
        "plt.figure(figsize=(15, 5))\n",
        "\n",
        "plt.subplot(1, 3, 1)\n",
        "plt.plot(k_values, silhouette_scores, marker='o')\n",
        "plt.title('Silhouette Score vs k')\n",
        "\n",
        "plt.subplot(1, 3, 2)\n",
        "plt.plot(k_values, ch_scores, marker='o')\n",
        "plt.title('CH Score vs k')\n",
        "\n",
        "plt.subplot(1, 3, 3)\n",
        "plt.plot(k_values, db_scores, marker='o')\n",
        "plt.title('DB Score vs k')\n",
        "\n",
        "plt.tight_layout()\n",
        "plt.show()"
      ],
      "metadata": {
        "id": "qy5QPp_NM2OB"
      },
      "execution_count": null,
      "outputs": []
    },
    {
      "cell_type": "code",
      "source": [
        "#A7\n",
        "distortions = []\n",
        "k_values = range(2, 20)\n",
        "\n",
        "for k in k_values:\n",
        "    kmeans = KMeans(n_clusters=k, random_state=0, n_init=\"auto\").fit(X)\n",
        "    distortions.append(kmeans.inertia_)\n",
        "\n",
        "plt.figure(figsize=(8, 6))\n",
        "plt.plot(k_values, distortions, marker='o')\n",
        "plt.title('Elbow Plot')\n",
        "plt.xlabel('Number of clusters (k)')\n",
        "plt.ylabel('Distortion')\n",
        "plt.show()"
      ],
      "metadata": {
        "id": "Xow_Tn-EM82q"
      },
      "execution_count": null,
      "outputs": []
    }
  ]
}