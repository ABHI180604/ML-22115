{
  "nbformat": 4,
  "nbformat_minor": 0,
  "metadata": {
    "colab": {
      "provenance": [],
      "authorship_tag": "ABX9TyNHXIgPG0g7AYGsn0u3JSvt",
      "include_colab_link": true
    },
    "kernelspec": {
      "name": "python3",
      "display_name": "Python 3"
    },
    "language_info": {
      "name": "python"
    }
  },
  "cells": [
    {
      "cell_type": "markdown",
      "metadata": {
        "id": "view-in-github",
        "colab_type": "text"
      },
      "source": [
        "<a href=\"https://colab.research.google.com/github/ABHI180604/ML-22115/blob/main/22115.ipynb\" target=\"_parent\"><img src=\"https://colab.research.google.com/assets/colab-badge.svg\" alt=\"Open In Colab\"/></a>"
      ]
    },
    {
      "cell_type": "code",
      "execution_count": null,
      "metadata": {
        "colab": {
          "base_uri": "https://localhost:8080/"
        },
        "id": "57mMHEfoLkKi",
        "outputId": "0cadabb2-4f98-4a8b-84bf-43d249b567db"
      },
      "outputs": [
        {
          "output_type": "stream",
          "name": "stdout",
          "text": [
            "number of pairs which sum up to 10 are: 2\n"
          ]
        }
      ],
      "source": [
        "def pairs(lists):\n",
        "    count=0\n",
        "    for i in range(len(lists)):\n",
        "        for j in range(i+1,len(lists)):\n",
        "            if lists[i]+lists[j]==10:\n",
        "                count+=1\n",
        "    return count\n",
        "def main():\n",
        "    list = [2,7,4,1,3,6]\n",
        "    counts= pairs(list);\n",
        "    print('number of pairs which sum up to 10 are:',counts)\n",
        "\n",
        "if __name__==\"__main__\":\n",
        "    main()\n"
      ]
    },
    {
      "cell_type": "code",
      "source": [
        "def difference(lists):\n",
        "     maxnum= max(lists)\n",
        "     minnum= min(lists)\n",
        "     diff = maxnum-minnum\n",
        "     return diff\n",
        "def length(lists):\n",
        "     return len(lists)>2\n",
        "def main():\n",
        "     list=[5,3,8,1,0,4]\n",
        "     diff=0\n",
        "\n",
        "     if length(list):\n",
        "          diff=difference(list)\n",
        "          print(diff)\n",
        "     else:\n",
        "          print(\"The number of elements in the list is less than 3 numbers, hence we cannot calculate the range\")\n",
        "if __name__==\"__main__\":\n",
        "         main()\n"
      ],
      "metadata": {
        "colab": {
          "base_uri": "https://localhost:8080/"
        },
        "id": "zf0KJLSFMB4B",
        "outputId": "b9e39e25-3b78-4638-cc7a-ef3ed2dcf78f"
      },
      "execution_count": null,
      "outputs": [
        {
          "output_type": "stream",
          "name": "stdout",
          "text": [
            "8\n"
          ]
        }
      ]
    },
    {
      "cell_type": "code",
      "source": [],
      "metadata": {
        "id": "-rk7hGohUviS"
      },
      "execution_count": null,
      "outputs": []
    }
  ]
}